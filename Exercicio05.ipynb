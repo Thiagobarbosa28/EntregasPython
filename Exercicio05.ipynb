{
 "cells": [
  {
   "cell_type": "markdown",
   "metadata": {},
   "source": [
    "## EXERCICIO 1\n",
    "\n",
    "Crie a classe Linha que tem dois atributos, coordenada1 e coordenada2. \n",
    "Cada coordenada é uma tupla que carrega duas coordenadas cartesianas (x,y) que denotam pontos do segmento de reta. \n",
    "Faça métodos que calculem o comprimento do segmento de reta e sua inclinação\n"
   ]
  },
  {
   "cell_type": "code",
   "execution_count": 2,
   "metadata": {},
   "outputs": [
    {
     "name": "stdout",
     "output_type": "stream",
     "text": [
      "comprimento é 3.1622776601683795\n",
      "inclinacao é -3.0\n"
     ]
    }
   ],
   "source": [
    "import math\n",
    "\n",
    "class Linha:\n",
    "    def __init__(self,cord1,cord2):\n",
    "        self.cord1 = cord1\n",
    "        self.cord2 = cord2\n",
    "    \n",
    "    \n",
    "    def calcComp(self,cord1,cord2):\n",
    "        a,b = cord1\n",
    "        c,d = cord2\n",
    "        return math.sqrt(((b - a)**2) + ((d - c)**2))\n",
    "    \n",
    "    \n",
    "    def calcIn(self,cord1,cord2):\n",
    "        a,b = cord1\n",
    "        c,d = cord2\n",
    "        return ((d - c)/(b - a))\n",
    "    \n",
    "t1=(4,5)\n",
    "t2=(5,2)\n",
    "l = Linha(t1,t2)\n",
    "\n",
    "print(\"comprimento é \" + str(l.calcComp(t1,t2)))\n",
    "print(\"inclinacao é \" + str(l.calcIn(t1,t2)))"
   ]
  },
  {
   "cell_type": "markdown",
   "metadata": {},
   "source": [
    "Faça um joguinho simples em Python"
   ]
  },
  {
   "cell_type": "code",
   "execution_count": null,
   "metadata": {},
   "outputs": [],
   "source": []
  }
 ],
 "metadata": {
  "kernelspec": {
   "display_name": "Python 3",
   "language": "python",
   "name": "python3"
  },
  "language_info": {
   "codemirror_mode": {
    "name": "ipython",
    "version": 3
   },
   "file_extension": ".py",
   "mimetype": "text/x-python",
   "name": "python",
   "nbconvert_exporter": "python",
   "pygments_lexer": "ipython3",
   "version": "3.6.4"
  }
 },
 "nbformat": 4,
 "nbformat_minor": 2
}
